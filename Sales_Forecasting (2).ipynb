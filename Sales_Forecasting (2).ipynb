{
 "cells": [
  {
   "cell_type": "code",
   "execution_count": 128,
   "id": "f098dff1",
   "metadata": {},
   "outputs": [],
   "source": [
    "import numpy as np\n",
    "import pandas as pd\n",
    "import seaborn as sns\n",
    "import matplotlib.pyplot as plt\n",
    "%matplotlib inline"
   ]
  },
  {
   "cell_type": "code",
   "execution_count": 129,
   "id": "df94a8d9",
   "metadata": {},
   "outputs": [],
   "source": [
    "walmart_sales = pd.read_csv('Walmart.csv')"
   ]
  },
  {
   "cell_type": "code",
   "execution_count": 130,
   "id": "f6ffa876",
   "metadata": {},
   "outputs": [
    {
     "data": {
      "text/plain": [
       "(6435, 8)"
      ]
     },
     "execution_count": 130,
     "metadata": {},
     "output_type": "execute_result"
    }
   ],
   "source": [
    "walmart_sales.shape"
   ]
  },
  {
   "cell_type": "code",
   "execution_count": 131,
   "id": "12cd2caa",
   "metadata": {},
   "outputs": [
    {
     "data": {
      "text/html": [
       "<div>\n",
       "<style scoped>\n",
       "    .dataframe tbody tr th:only-of-type {\n",
       "        vertical-align: middle;\n",
       "    }\n",
       "\n",
       "    .dataframe tbody tr th {\n",
       "        vertical-align: top;\n",
       "    }\n",
       "\n",
       "    .dataframe thead th {\n",
       "        text-align: right;\n",
       "    }\n",
       "</style>\n",
       "<table border=\"1\" class=\"dataframe\">\n",
       "  <thead>\n",
       "    <tr style=\"text-align: right;\">\n",
       "      <th></th>\n",
       "      <th>Store</th>\n",
       "      <th>Date</th>\n",
       "      <th>Weekly_Sales</th>\n",
       "      <th>Holiday_Flag</th>\n",
       "      <th>Temperature</th>\n",
       "      <th>Fuel_Price</th>\n",
       "      <th>CPI</th>\n",
       "      <th>Unemployment</th>\n",
       "    </tr>\n",
       "  </thead>\n",
       "  <tbody>\n",
       "    <tr>\n",
       "      <th>0</th>\n",
       "      <td>1</td>\n",
       "      <td>05-02-2010</td>\n",
       "      <td>1643690.90</td>\n",
       "      <td>0</td>\n",
       "      <td>42.31</td>\n",
       "      <td>2.572</td>\n",
       "      <td>211.096358</td>\n",
       "      <td>8.106</td>\n",
       "    </tr>\n",
       "    <tr>\n",
       "      <th>1</th>\n",
       "      <td>1</td>\n",
       "      <td>12-02-2010</td>\n",
       "      <td>1641957.44</td>\n",
       "      <td>1</td>\n",
       "      <td>38.51</td>\n",
       "      <td>2.548</td>\n",
       "      <td>211.242170</td>\n",
       "      <td>8.106</td>\n",
       "    </tr>\n",
       "    <tr>\n",
       "      <th>2</th>\n",
       "      <td>1</td>\n",
       "      <td>19-02-2010</td>\n",
       "      <td>1611968.17</td>\n",
       "      <td>0</td>\n",
       "      <td>39.93</td>\n",
       "      <td>2.514</td>\n",
       "      <td>211.289143</td>\n",
       "      <td>8.106</td>\n",
       "    </tr>\n",
       "    <tr>\n",
       "      <th>3</th>\n",
       "      <td>1</td>\n",
       "      <td>26-02-2010</td>\n",
       "      <td>1409727.59</td>\n",
       "      <td>0</td>\n",
       "      <td>46.63</td>\n",
       "      <td>2.561</td>\n",
       "      <td>211.319643</td>\n",
       "      <td>8.106</td>\n",
       "    </tr>\n",
       "    <tr>\n",
       "      <th>4</th>\n",
       "      <td>1</td>\n",
       "      <td>05-03-2010</td>\n",
       "      <td>1554806.68</td>\n",
       "      <td>0</td>\n",
       "      <td>46.50</td>\n",
       "      <td>2.625</td>\n",
       "      <td>211.350143</td>\n",
       "      <td>8.106</td>\n",
       "    </tr>\n",
       "    <tr>\n",
       "      <th>5</th>\n",
       "      <td>1</td>\n",
       "      <td>12-03-2010</td>\n",
       "      <td>1439541.59</td>\n",
       "      <td>0</td>\n",
       "      <td>57.79</td>\n",
       "      <td>2.667</td>\n",
       "      <td>211.380643</td>\n",
       "      <td>8.106</td>\n",
       "    </tr>\n",
       "    <tr>\n",
       "      <th>6</th>\n",
       "      <td>1</td>\n",
       "      <td>19-03-2010</td>\n",
       "      <td>1472515.79</td>\n",
       "      <td>0</td>\n",
       "      <td>54.58</td>\n",
       "      <td>2.720</td>\n",
       "      <td>211.215635</td>\n",
       "      <td>8.106</td>\n",
       "    </tr>\n",
       "    <tr>\n",
       "      <th>7</th>\n",
       "      <td>1</td>\n",
       "      <td>26-03-2010</td>\n",
       "      <td>1404429.92</td>\n",
       "      <td>0</td>\n",
       "      <td>51.45</td>\n",
       "      <td>2.732</td>\n",
       "      <td>211.018042</td>\n",
       "      <td>8.106</td>\n",
       "    </tr>\n",
       "    <tr>\n",
       "      <th>8</th>\n",
       "      <td>1</td>\n",
       "      <td>02-04-2010</td>\n",
       "      <td>1594968.28</td>\n",
       "      <td>0</td>\n",
       "      <td>62.27</td>\n",
       "      <td>2.719</td>\n",
       "      <td>210.820450</td>\n",
       "      <td>7.808</td>\n",
       "    </tr>\n",
       "    <tr>\n",
       "      <th>9</th>\n",
       "      <td>1</td>\n",
       "      <td>09-04-2010</td>\n",
       "      <td>1545418.53</td>\n",
       "      <td>0</td>\n",
       "      <td>65.86</td>\n",
       "      <td>2.770</td>\n",
       "      <td>210.622857</td>\n",
       "      <td>7.808</td>\n",
       "    </tr>\n",
       "  </tbody>\n",
       "</table>\n",
       "</div>"
      ],
      "text/plain": [
       "   Store        Date  Weekly_Sales  Holiday_Flag  Temperature  Fuel_Price  \\\n",
       "0      1  05-02-2010    1643690.90             0        42.31       2.572   \n",
       "1      1  12-02-2010    1641957.44             1        38.51       2.548   \n",
       "2      1  19-02-2010    1611968.17             0        39.93       2.514   \n",
       "3      1  26-02-2010    1409727.59             0        46.63       2.561   \n",
       "4      1  05-03-2010    1554806.68             0        46.50       2.625   \n",
       "5      1  12-03-2010    1439541.59             0        57.79       2.667   \n",
       "6      1  19-03-2010    1472515.79             0        54.58       2.720   \n",
       "7      1  26-03-2010    1404429.92             0        51.45       2.732   \n",
       "8      1  02-04-2010    1594968.28             0        62.27       2.719   \n",
       "9      1  09-04-2010    1545418.53             0        65.86       2.770   \n",
       "\n",
       "          CPI  Unemployment  \n",
       "0  211.096358         8.106  \n",
       "1  211.242170         8.106  \n",
       "2  211.289143         8.106  \n",
       "3  211.319643         8.106  \n",
       "4  211.350143         8.106  \n",
       "5  211.380643         8.106  \n",
       "6  211.215635         8.106  \n",
       "7  211.018042         8.106  \n",
       "8  210.820450         7.808  \n",
       "9  210.622857         7.808  "
      ]
     },
     "execution_count": 131,
     "metadata": {},
     "output_type": "execute_result"
    }
   ],
   "source": [
    "walmart_sales.head(10)"
   ]
  },
  {
   "cell_type": "code",
   "execution_count": 132,
   "id": "3f2fdf03",
   "metadata": {},
   "outputs": [
    {
     "name": "stdout",
     "output_type": "stream",
     "text": [
      "<class 'pandas.core.frame.DataFrame'>\n",
      "RangeIndex: 6435 entries, 0 to 6434\n",
      "Data columns (total 8 columns):\n",
      " #   Column        Non-Null Count  Dtype  \n",
      "---  ------        --------------  -----  \n",
      " 0   Store         6435 non-null   int64  \n",
      " 1   Date          6435 non-null   object \n",
      " 2   Weekly_Sales  6435 non-null   float64\n",
      " 3   Holiday_Flag  6435 non-null   int64  \n",
      " 4   Temperature   6435 non-null   float64\n",
      " 5   Fuel_Price    6435 non-null   float64\n",
      " 6   CPI           6435 non-null   float64\n",
      " 7   Unemployment  6435 non-null   float64\n",
      "dtypes: float64(5), int64(2), object(1)\n",
      "memory usage: 402.3+ KB\n"
     ]
    }
   ],
   "source": [
    "walmart_sales.info()"
   ]
  },
  {
   "cell_type": "code",
   "execution_count": 133,
   "id": "626f2563",
   "metadata": {},
   "outputs": [
    {
     "data": {
      "text/plain": [
       "Store           0\n",
       "Date            0\n",
       "Weekly_Sales    0\n",
       "Holiday_Flag    0\n",
       "Temperature     0\n",
       "Fuel_Price      0\n",
       "CPI             0\n",
       "Unemployment    0\n",
       "dtype: int64"
      ]
     },
     "execution_count": 133,
     "metadata": {},
     "output_type": "execute_result"
    }
   ],
   "source": [
    "walmart_sales.isnull().sum()"
   ]
  },
  {
   "cell_type": "code",
   "execution_count": 134,
   "id": "a748e7ca",
   "metadata": {},
   "outputs": [
    {
     "data": {
      "text/plain": [
       "<seaborn.axisgrid.FacetGrid at 0x7fb98825bfd0>"
      ]
     },
     "execution_count": 134,
     "metadata": {},
     "output_type": "execute_result"
    },
    {
     "data": {
      "image/png": "[encoded data removed]",
      "text/plain": [
       "<Figure size 500x500 with 1 Axes>"
      ]
     },
     "metadata": {},
     "output_type": "display_data"
    }
   ],
   "source": [
    "sns.displot(data=walmart_sales['Weekly_Sales'],kde=2)\n",
    "# Not a perfect bell-shaped curve because the weekly sales are never 0 at walmart"
   ]
  },
  {
   "cell_type": "code",
   "execution_count": 135,
   "id": "1060a47e",
   "metadata": {},
   "outputs": [],
   "source": [
    "# Converting the 'Date' to datetime format\n",
    "walmart_sales[\"Date\"]=pd.to_datetime(walmart_sales[\"Date\"], format = \"%d-%m-%Y\")"
   ]
  },
  {
   "cell_type": "code",
   "execution_count": 136,
   "id": "31a80e42",
   "metadata": {},
   "outputs": [],
   "source": [
    "# Extracting the time-related features\n",
    "walmart_sales[\"Year\"]=walmart_sales[\"Date\"].dt.year"
   ]
  },
  {
   "cell_type": "code",
   "execution_count": 137,
   "id": "72aedcbf",
   "metadata": {},
   "outputs": [],
   "source": [
    "walmart_sales[\"Quarter\"]=walmart_sales[\"Date\"].dt.quarter"
   ]
  },
  {
   "cell_type": "code",
   "execution_count": 138,
   "id": "9964918f",
   "metadata": {},
   "outputs": [],
   "source": [
    "walmart_sales[\"Month\"]=walmart_sales[\"Date\"].dt.month "
   ]
  },
  {
   "cell_type": "code",
   "execution_count": 139,
   "id": "6e39a6df",
   "metadata": {},
   "outputs": [],
   "source": [
    "walmart_sales['Week'] = walmart_sales['Date'].dt.isocalendar().week"
   ]
  },
  {
   "cell_type": "code",
   "execution_count": 140,
   "id": "23b3542f",
   "metadata": {},
   "outputs": [],
   "source": [
    "#walmart_sales[\"Day\"] = walmart_sales[\"Day\"].dt.dayofweek\n",
    "walmart_sales['Day'] = walmart_sales['Date'].dt.day"
   ]
  },
  {
   "cell_type": "code",
   "execution_count": 141,
   "id": "45bdcb1b",
   "metadata": {},
   "outputs": [
    {
     "data": {
      "text/html": [
       "<div>\n",
       "<style scoped>\n",
       "    .dataframe tbody tr th:only-of-type {\n",
       "        vertical-align: middle;\n",
       "    }\n",
       "\n",
       "    .dataframe tbody tr th {\n",
       "        vertical-align: top;\n",
       "    }\n",
       "\n",
       "    .dataframe thead th {\n",
       "        text-align: right;\n",
       "    }\n",
       "</style>\n",
       "<table border=\"1\" class=\"dataframe\">\n",
       "  <thead>\n",
       "    <tr style=\"text-align: right;\">\n",
       "      <th></th>\n",
       "      <th>Store</th>\n",
       "      <th>Date</th>\n",
       "      <th>Weekly_Sales</th>\n",
       "      <th>Holiday_Flag</th>\n",
       "      <th>Temperature</th>\n",
       "      <th>Fuel_Price</th>\n",
       "      <th>CPI</th>\n",
       "      <th>Unemployment</th>\n",
       "      <th>Year</th>\n",
       "      <th>Quarter</th>\n",
       "      <th>Month</th>\n",
       "      <th>Week</th>\n",
       "      <th>Day</th>\n",
       "    </tr>\n",
       "  </thead>\n",
       "  <tbody>\n",
       "    <tr>\n",
       "      <th>0</th>\n",
       "      <td>1</td>\n",
       "      <td>2010-02-05</td>\n",
       "      <td>1643690.90</td>\n",
       "      <td>0</td>\n",
       "      <td>42.31</td>\n",
       "      <td>2.572</td>\n",
       "      <td>211.096358</td>\n",
       "      <td>8.106</td>\n",
       "      <td>2010</td>\n",
       "      <td>1</td>\n",
       "      <td>2</td>\n",
       "      <td>5</td>\n",
       "      <td>5</td>\n",
       "    </tr>\n",
       "    <tr>\n",
       "      <th>1</th>\n",
       "      <td>1</td>\n",
       "      <td>2010-02-12</td>\n",
       "      <td>1641957.44</td>\n",
       "      <td>1</td>\n",
       "      <td>38.51</td>\n",
       "      <td>2.548</td>\n",
       "      <td>211.242170</td>\n",
       "      <td>8.106</td>\n",
       "      <td>2010</td>\n",
       "      <td>1</td>\n",
       "      <td>2</td>\n",
       "      <td>6</td>\n",
       "      <td>12</td>\n",
       "    </tr>\n",
       "    <tr>\n",
       "      <th>2</th>\n",
       "      <td>1</td>\n",
       "      <td>2010-02-19</td>\n",
       "      <td>1611968.17</td>\n",
       "      <td>0</td>\n",
       "      <td>39.93</td>\n",
       "      <td>2.514</td>\n",
       "      <td>211.289143</td>\n",
       "      <td>8.106</td>\n",
       "      <td>2010</td>\n",
       "      <td>1</td>\n",
       "      <td>2</td>\n",
       "      <td>7</td>\n",
       "      <td>19</td>\n",
       "    </tr>\n",
       "    <tr>\n",
       "      <th>3</th>\n",
       "      <td>1</td>\n",
       "      <td>2010-02-26</td>\n",
       "      <td>1409727.59</td>\n",
       "      <td>0</td>\n",
       "      <td>46.63</td>\n",
       "      <td>2.561</td>\n",
       "      <td>211.319643</td>\n",
       "      <td>8.106</td>\n",
       "      <td>2010</td>\n",
       "      <td>1</td>\n",
       "      <td>2</td>\n",
       "      <td>8</td>\n",
       "      <td>26</td>\n",
       "    </tr>\n",
       "    <tr>\n",
       "      <th>4</th>\n",
       "      <td>1</td>\n",
       "      <td>2010-03-05</td>\n",
       "      <td>1554806.68</td>\n",
       "      <td>0</td>\n",
       "      <td>46.50</td>\n",
       "      <td>2.625</td>\n",
       "      <td>211.350143</td>\n",
       "      <td>8.106</td>\n",
       "      <td>2010</td>\n",
       "      <td>1</td>\n",
       "      <td>3</td>\n",
       "      <td>9</td>\n",
       "      <td>5</td>\n",
       "    </tr>\n",
       "  </tbody>\n",
       "</table>\n",
       "</div>"
      ],
      "text/plain": [
       "   Store       Date  Weekly_Sales  Holiday_Flag  Temperature  Fuel_Price  \\\n",
       "0      1 2010-02-05    1643690.90             0        42.31       2.572   \n",
       "1      1 2010-02-12    1641957.44             1        38.51       2.548   \n",
       "2      1 2010-02-19    1611968.17             0        39.93       2.514   \n",
       "3      1 2010-02-26    1409727.59             0        46.63       2.561   \n",
       "4      1 2010-03-05    1554806.68             0        46.50       2.625   \n",
       "\n",
       "          CPI  Unemployment  Year  Quarter  Month  Week  Day  \n",
       "0  211.096358         8.106  2010        1      2     5    5  \n",
       "1  211.242170         8.106  2010        1      2     6   12  \n",
       "2  211.289143         8.106  2010        1      2     7   19  \n",
       "3  211.319643         8.106  2010        1      2     8   26  \n",
       "4  211.350143         8.106  2010        1      3     9    5  "
      ]
     },
     "execution_count": 141,
     "metadata": {},
     "output_type": "execute_result"
    }
   ],
   "source": [
    "walmart_sales.head()"
   ]
  },
  {
   "cell_type": "code",
   "execution_count": 142,
   "id": "45bcfea8",
   "metadata": {},
   "outputs": [],
   "source": [
    "# Converting the categorical features to object type\n",
    "walmart_sales['Holiday_Flag'] = walmart_sales['Holiday_Flag'].astype('object')\n",
    "walmart_sales['Store'] = walmart_sales['Store'].astype('object')\n",
    "walmart_sales['Year'] = walmart_sales['Year'].astype('object')\n",
    "walmart_sales['Quarter'] = walmart_sales['Quarter'].astype('object')\n",
    "walmart_sales['Week'] = walmart_sales['Week'].astype('object')"
   ]
  },
  {
   "cell_type": "code",
   "execution_count": 143,
   "id": "5e3fc759",
   "metadata": {},
   "outputs": [
    {
     "name": "stdout",
     "output_type": "stream",
     "text": [
      "<class 'pandas.core.frame.DataFrame'>\n",
      "RangeIndex: 6435 entries, 0 to 6434\n",
      "Data columns (total 13 columns):\n",
      " #   Column        Non-Null Count  Dtype         \n",
      "---  ------        --------------  -----         \n",
      " 0   Store         6435 non-null   object        \n",
      " 1   Date          6435 non-null   datetime64[ns]\n",
      " 2   Weekly_Sales  6435 non-null   float64       \n",
      " 3   Holiday_Flag  6435 non-null   object        \n",
      " 4   Temperature   6435 non-null   float64       \n",
      " 5   Fuel_Price    6435 non-null   float64       \n",
      " 6   CPI           6435 non-null   float64       \n",
      " 7   Unemployment  6435 non-null   float64       \n",
      " 8   Year          6435 non-null   object        \n",
      " 9   Quarter       6435 non-null   object        \n",
      " 10  Month         6435 non-null   int64         \n",
      " 11  Week          6435 non-null   object        \n",
      " 12  Day           6435 non-null   int64         \n",
      "dtypes: datetime64[ns](1), float64(5), int64(2), object(5)\n",
      "memory usage: 653.7+ KB\n"
     ]
    }
   ],
   "source": [
    "walmart_sales.info()"
   ]
  },
  {
   "cell_type": "code",
   "execution_count": 144,
   "id": "f40c94a9",
   "metadata": {},
   "outputs": [
    {
     "data": {
      "text/plain": [
       "<AxesSubplot:xlabel='Holiday_Flag', ylabel='Weekly_Sales'>"
      ]
     },
     "execution_count": 144,
     "metadata": {},
     "output_type": "execute_result"
    },
    {
     "data": {
      "image/png": "[encoded data removed]",
      "text/plain": [
       "<Figure size 640x480 with 1 Axes>"
      ]
     },
     "metadata": {},
     "output_type": "display_data"
    }
   ],
   "source": [
    "sns.barplot(data=walmart_sales,x='Holiday_Flag',y='Weekly_Sales')"
   ]
  },
  {
   "cell_type": "code",
   "execution_count": 145,
   "id": "60be5055",
   "metadata": {},
   "outputs": [
    {
     "data": {
      "text/plain": [
       "Holiday_Flag\n",
       "0    1041256.0\n",
       "1    1122888.0\n",
       "Name: Weekly_Sales, dtype: float64"
      ]
     },
     "execution_count": 145,
     "metadata": {},
     "output_type": "execute_result"
    }
   ],
   "source": [
    "walmart_sales.groupby('Holiday_Flag')['Weekly_Sales'].mean().round()\n",
    "#We can clearly see that the sales are more in the week if there is any holiday."
   ]
  },
  {
   "cell_type": "code",
   "execution_count": 146,
   "id": "740d4715",
   "metadata": {},
   "outputs": [
    {
     "data": {
      "text/plain": [
       "<AxesSubplot:xlabel='Quarter', ylabel='Weekly_Sales'>"
      ]
     },
     "execution_count": 146,
     "metadata": {},
     "output_type": "execute_result"
    },
    {
     "data": {
      "image/png": "[encoded data removed]",
      "text/plain": [
       "<Figure size 640x480 with 1 Axes>"
      ]
     },
     "metadata": {},
     "output_type": "display_data"
    }
   ],
   "source": [
    "sns.barplot(data=walmart_sales,x='Quarter',y='Weekly_Sales')"
   ]
  },
  {
   "cell_type": "code",
   "execution_count": 147,
   "id": "c1b26882",
   "metadata": {},
   "outputs": [
    {
     "data": {
      "text/plain": [
       "Quarter\n",
       "1    1006136.0\n",
       "2    1040806.0\n",
       "3    1023251.0\n",
       "4    1128774.0\n",
       "Name: Weekly_Sales, dtype: float64"
      ]
     },
     "execution_count": 147,
     "metadata": {},
     "output_type": "execute_result"
    }
   ],
   "source": [
    "walmart_sales.groupby('Quarter')['Weekly_Sales'].mean().round()"
   ]
  },
  {
   "cell_type": "code",
   "execution_count": 148,
   "id": "909f487d",
   "metadata": {},
   "outputs": [
    {
     "data": {
      "text/plain": [
       "Index(['Store', 'Date', 'Weekly_Sales', 'Holiday_Flag', 'Temperature',\n",
       "       'Fuel_Price', 'CPI', 'Unemployment', 'Year', 'Quarter', 'Month', 'Week',\n",
       "       'Day'],\n",
       "      dtype='object')"
      ]
     },
     "execution_count": 148,
     "metadata": {},
     "output_type": "execute_result"
    }
   ],
   "source": [
    "walmart_sales.columns"
   ]
  },
  {
   "cell_type": "code",
   "execution_count": 149,
   "id": "01c53ebf",
   "metadata": {},
   "outputs": [
    {
     "data": {
      "text/html": [
       "<div>\n",
       "<style scoped>\n",
       "    .dataframe tbody tr th:only-of-type {\n",
       "        vertical-align: middle;\n",
       "    }\n",
       "\n",
       "    .dataframe tbody tr th {\n",
       "        vertical-align: top;\n",
       "    }\n",
       "\n",
       "    .dataframe thead th {\n",
       "        text-align: right;\n",
       "    }\n",
       "</style>\n",
       "<table border=\"1\" class=\"dataframe\">\n",
       "  <thead>\n",
       "    <tr style=\"text-align: right;\">\n",
       "      <th></th>\n",
       "      <th>Weekly_Sales</th>\n",
       "      <th>Temperature</th>\n",
       "      <th>Fuel_Price</th>\n",
       "      <th>CPI</th>\n",
       "      <th>Unemployment</th>\n",
       "      <th>Month</th>\n",
       "      <th>Day</th>\n",
       "    </tr>\n",
       "  </thead>\n",
       "  <tbody>\n",
       "    <tr>\n",
       "      <th>Weekly_Sales</th>\n",
       "      <td>1.000000</td>\n",
       "      <td>-0.063810</td>\n",
       "      <td>0.009464</td>\n",
       "      <td>-0.072634</td>\n",
       "      <td>-0.106176</td>\n",
       "      <td>0.076143</td>\n",
       "      <td>-0.017409</td>\n",
       "    </tr>\n",
       "    <tr>\n",
       "      <th>Temperature</th>\n",
       "      <td>-0.063810</td>\n",
       "      <td>1.000000</td>\n",
       "      <td>0.144982</td>\n",
       "      <td>0.176888</td>\n",
       "      <td>0.101158</td>\n",
       "      <td>0.235862</td>\n",
       "      <td>0.026973</td>\n",
       "    </tr>\n",
       "    <tr>\n",
       "      <th>Fuel_Price</th>\n",
       "      <td>0.009464</td>\n",
       "      <td>0.144982</td>\n",
       "      <td>1.000000</td>\n",
       "      <td>-0.170642</td>\n",
       "      <td>-0.034684</td>\n",
       "      <td>-0.042156</td>\n",
       "      <td>0.028073</td>\n",
       "    </tr>\n",
       "    <tr>\n",
       "      <th>CPI</th>\n",
       "      <td>-0.072634</td>\n",
       "      <td>0.176888</td>\n",
       "      <td>-0.170642</td>\n",
       "      <td>1.000000</td>\n",
       "      <td>-0.302020</td>\n",
       "      <td>0.004980</td>\n",
       "      <td>0.002684</td>\n",
       "    </tr>\n",
       "    <tr>\n",
       "      <th>Unemployment</th>\n",
       "      <td>-0.106176</td>\n",
       "      <td>0.101158</td>\n",
       "      <td>-0.034684</td>\n",
       "      <td>-0.302020</td>\n",
       "      <td>1.000000</td>\n",
       "      <td>-0.012746</td>\n",
       "      <td>-0.004233</td>\n",
       "    </tr>\n",
       "    <tr>\n",
       "      <th>Month</th>\n",
       "      <td>0.076143</td>\n",
       "      <td>0.235862</td>\n",
       "      <td>-0.042156</td>\n",
       "      <td>0.004980</td>\n",
       "      <td>-0.012746</td>\n",
       "      <td>1.000000</td>\n",
       "      <td>0.015192</td>\n",
       "    </tr>\n",
       "    <tr>\n",
       "      <th>Day</th>\n",
       "      <td>-0.017409</td>\n",
       "      <td>0.026973</td>\n",
       "      <td>0.028073</td>\n",
       "      <td>0.002684</td>\n",
       "      <td>-0.004233</td>\n",
       "      <td>0.015192</td>\n",
       "      <td>1.000000</td>\n",
       "    </tr>\n",
       "  </tbody>\n",
       "</table>\n",
       "</div>"
      ],
      "text/plain": [
       "              Weekly_Sales  Temperature  Fuel_Price       CPI  Unemployment  \\\n",
       "Weekly_Sales      1.000000    -0.063810    0.009464 -0.072634     -0.106176   \n",
       "Temperature      -0.063810     1.000000    0.144982  0.176888      0.101158   \n",
       "Fuel_Price        0.009464     0.144982    1.000000 -0.170642     -0.034684   \n",
       "CPI              -0.072634     0.176888   -0.170642  1.000000     -0.302020   \n",
       "Unemployment     -0.106176     0.101158   -0.034684 -0.302020      1.000000   \n",
       "Month             0.076143     0.235862   -0.042156  0.004980     -0.012746   \n",
       "Day              -0.017409     0.026973    0.028073  0.002684     -0.004233   \n",
       "\n",
       "                 Month       Day  \n",
       "Weekly_Sales  0.076143 -0.017409  \n",
       "Temperature   0.235862  0.026973  \n",
       "Fuel_Price   -0.042156  0.028073  \n",
       "CPI           0.004980  0.002684  \n",
       "Unemployment -0.012746 -0.004233  \n",
       "Month         1.000000  0.015192  \n",
       "Day           0.015192  1.000000  "
      ]
     },
     "execution_count": 149,
     "metadata": {},
     "output_type": "execute_result"
    }
   ],
   "source": [
    "walmart_sales.corr()"
   ]
  },
  {
   "cell_type": "code",
   "execution_count": 150,
   "id": "d9608686",
   "metadata": {},
   "outputs": [
    {
     "data": {
      "text/plain": [
       "<AxesSubplot:>"
      ]
     },
     "execution_count": 150,
     "metadata": {},
     "output_type": "execute_result"
    },
    {
     "data": {
      "image/png": "[encoded data removed]",
      "text/plain": [
       "<Figure size 640x480 with 2 Axes>"
      ]
     },
     "metadata": {},
     "output_type": "display_data"
    }
   ],
   "source": [
    "sns.heatmap(walmart_sales.corr(),cmap='coolwarm')"
   ]
  },
  {
   "cell_type": "code",
   "execution_count": 151,
   "id": "d98c1f3e",
   "metadata": {},
   "outputs": [],
   "source": [
    "walmart_sales_copy=walmart_sales.copy()"
   ]
  },
  {
   "cell_type": "code",
   "execution_count": 152,
   "id": "7b49302c",
   "metadata": {},
   "outputs": [
    {
     "data": {
      "text/plain": [
       "<AxesSubplot:xlabel='Month', ylabel='Weekly_Sales'>"
      ]
     },
     "execution_count": 152,
     "metadata": {},
     "output_type": "execute_result"
    },
    {
     "data": {
      "image/png": "[encoded data removed]",
      "text/plain": [
       "<Figure size 640x480 with 1 Axes>"
      ]
     },
     "metadata": {},
     "output_type": "display_data"
    }
   ],
   "source": [
    "sns.boxplot(x='Month',y='Weekly_Sales',data=walmart_sales)"
   ]
  },
  {
   "cell_type": "code",
   "execution_count": 153,
   "id": "0efef03a",
   "metadata": {},
   "outputs": [
    {
     "data": {
      "text/html": [
       "<div>\n",
       "<style scoped>\n",
       "    .dataframe tbody tr th:only-of-type {\n",
       "        vertical-align: middle;\n",
       "    }\n",
       "\n",
       "    .dataframe tbody tr th {\n",
       "        vertical-align: top;\n",
       "    }\n",
       "\n",
       "    .dataframe thead th {\n",
       "        text-align: right;\n",
       "    }\n",
       "</style>\n",
       "<table border=\"1\" class=\"dataframe\">\n",
       "  <thead>\n",
       "    <tr style=\"text-align: right;\">\n",
       "      <th></th>\n",
       "      <th>Store</th>\n",
       "      <th>Date</th>\n",
       "      <th>Weekly_Sales</th>\n",
       "      <th>Holiday_Flag</th>\n",
       "      <th>Temperature</th>\n",
       "      <th>Fuel_Price</th>\n",
       "      <th>CPI</th>\n",
       "      <th>Unemployment</th>\n",
       "      <th>Year</th>\n",
       "      <th>Quarter</th>\n",
       "      <th>Month</th>\n",
       "      <th>Week</th>\n",
       "      <th>Day</th>\n",
       "    </tr>\n",
       "  </thead>\n",
       "  <tbody>\n",
       "    <tr>\n",
       "      <th>39</th>\n",
       "      <td>1</td>\n",
       "      <td>2010-11-05</td>\n",
       "      <td>1551659.28</td>\n",
       "      <td>0</td>\n",
       "      <td>58.74</td>\n",
       "      <td>2.689</td>\n",
       "      <td>211.956394</td>\n",
       "      <td>7.838</td>\n",
       "      <td>2010</td>\n",
       "      <td>4</td>\n",
       "      <td>11</td>\n",
       "      <td>44</td>\n",
       "      <td>5</td>\n",
       "    </tr>\n",
       "    <tr>\n",
       "      <th>40</th>\n",
       "      <td>1</td>\n",
       "      <td>2010-11-12</td>\n",
       "      <td>1494479.49</td>\n",
       "      <td>0</td>\n",
       "      <td>59.61</td>\n",
       "      <td>2.728</td>\n",
       "      <td>212.003944</td>\n",
       "      <td>7.838</td>\n",
       "      <td>2010</td>\n",
       "      <td>4</td>\n",
       "      <td>11</td>\n",
       "      <td>45</td>\n",
       "      <td>12</td>\n",
       "    </tr>\n",
       "    <tr>\n",
       "      <th>41</th>\n",
       "      <td>1</td>\n",
       "      <td>2010-11-19</td>\n",
       "      <td>1483784.18</td>\n",
       "      <td>0</td>\n",
       "      <td>51.41</td>\n",
       "      <td>2.771</td>\n",
       "      <td>211.889674</td>\n",
       "      <td>7.838</td>\n",
       "      <td>2010</td>\n",
       "      <td>4</td>\n",
       "      <td>11</td>\n",
       "      <td>46</td>\n",
       "      <td>19</td>\n",
       "    </tr>\n",
       "    <tr>\n",
       "      <th>42</th>\n",
       "      <td>1</td>\n",
       "      <td>2010-11-26</td>\n",
       "      <td>1955624.11</td>\n",
       "      <td>1</td>\n",
       "      <td>64.52</td>\n",
       "      <td>2.735</td>\n",
       "      <td>211.748433</td>\n",
       "      <td>7.838</td>\n",
       "      <td>2010</td>\n",
       "      <td>4</td>\n",
       "      <td>11</td>\n",
       "      <td>47</td>\n",
       "      <td>26</td>\n",
       "    </tr>\n",
       "    <tr>\n",
       "      <th>91</th>\n",
       "      <td>1</td>\n",
       "      <td>2011-11-04</td>\n",
       "      <td>1697229.58</td>\n",
       "      <td>0</td>\n",
       "      <td>54.98</td>\n",
       "      <td>3.332</td>\n",
       "      <td>217.837382</td>\n",
       "      <td>7.866</td>\n",
       "      <td>2011</td>\n",
       "      <td>4</td>\n",
       "      <td>11</td>\n",
       "      <td>44</td>\n",
       "      <td>4</td>\n",
       "    </tr>\n",
       "    <tr>\n",
       "      <th>...</th>\n",
       "      <td>...</td>\n",
       "      <td>...</td>\n",
       "      <td>...</td>\n",
       "      <td>...</td>\n",
       "      <td>...</td>\n",
       "      <td>...</td>\n",
       "      <td>...</td>\n",
       "      <td>...</td>\n",
       "      <td>...</td>\n",
       "      <td>...</td>\n",
       "      <td>...</td>\n",
       "      <td>...</td>\n",
       "      <td>...</td>\n",
       "    </tr>\n",
       "    <tr>\n",
       "      <th>6334</th>\n",
       "      <td>45</td>\n",
       "      <td>2010-11-26</td>\n",
       "      <td>1182500.16</td>\n",
       "      <td>1</td>\n",
       "      <td>46.15</td>\n",
       "      <td>3.039</td>\n",
       "      <td>182.783277</td>\n",
       "      <td>8.724</td>\n",
       "      <td>2010</td>\n",
       "      <td>4</td>\n",
       "      <td>11</td>\n",
       "      <td>47</td>\n",
       "      <td>26</td>\n",
       "    </tr>\n",
       "    <tr>\n",
       "      <th>6383</th>\n",
       "      <td>45</td>\n",
       "      <td>2011-11-04</td>\n",
       "      <td>833429.22</td>\n",
       "      <td>0</td>\n",
       "      <td>43.92</td>\n",
       "      <td>3.551</td>\n",
       "      <td>187.970363</td>\n",
       "      <td>8.523</td>\n",
       "      <td>2011</td>\n",
       "      <td>4</td>\n",
       "      <td>11</td>\n",
       "      <td>44</td>\n",
       "      <td>4</td>\n",
       "    </tr>\n",
       "    <tr>\n",
       "      <th>6384</th>\n",
       "      <td>45</td>\n",
       "      <td>2011-11-11</td>\n",
       "      <td>808624.82</td>\n",
       "      <td>0</td>\n",
       "      <td>47.65</td>\n",
       "      <td>3.530</td>\n",
       "      <td>188.063234</td>\n",
       "      <td>8.523</td>\n",
       "      <td>2011</td>\n",
       "      <td>4</td>\n",
       "      <td>11</td>\n",
       "      <td>45</td>\n",
       "      <td>11</td>\n",
       "    </tr>\n",
       "    <tr>\n",
       "      <th>6385</th>\n",
       "      <td>45</td>\n",
       "      <td>2011-11-18</td>\n",
       "      <td>773603.77</td>\n",
       "      <td>0</td>\n",
       "      <td>51.34</td>\n",
       "      <td>3.530</td>\n",
       "      <td>188.198365</td>\n",
       "      <td>8.523</td>\n",
       "      <td>2011</td>\n",
       "      <td>4</td>\n",
       "      <td>11</td>\n",
       "      <td>46</td>\n",
       "      <td>18</td>\n",
       "    </tr>\n",
       "    <tr>\n",
       "      <th>6386</th>\n",
       "      <td>45</td>\n",
       "      <td>2011-11-25</td>\n",
       "      <td>1170672.94</td>\n",
       "      <td>1</td>\n",
       "      <td>48.71</td>\n",
       "      <td>3.492</td>\n",
       "      <td>188.350400</td>\n",
       "      <td>8.523</td>\n",
       "      <td>2011</td>\n",
       "      <td>4</td>\n",
       "      <td>11</td>\n",
       "      <td>47</td>\n",
       "      <td>25</td>\n",
       "    </tr>\n",
       "  </tbody>\n",
       "</table>\n",
       "<p>360 rows × 13 columns</p>\n",
       "</div>"
      ],
      "text/plain": [
       "     Store       Date  Weekly_Sales Holiday_Flag  Temperature  Fuel_Price  \\\n",
       "39       1 2010-11-05    1551659.28            0        58.74       2.689   \n",
       "40       1 2010-11-12    1494479.49            0        59.61       2.728   \n",
       "41       1 2010-11-19    1483784.18            0        51.41       2.771   \n",
       "42       1 2010-11-26    1955624.11            1        64.52       2.735   \n",
       "91       1 2011-11-04    1697229.58            0        54.98       3.332   \n",
       "...    ...        ...           ...          ...          ...         ...   \n",
       "6334    45 2010-11-26    1182500.16            1        46.15       3.039   \n",
       "6383    45 2011-11-04     833429.22            0        43.92       3.551   \n",
       "6384    45 2011-11-11     808624.82            0        47.65       3.530   \n",
       "6385    45 2011-11-18     773603.77            0        51.34       3.530   \n",
       "6386    45 2011-11-25    1170672.94            1        48.71       3.492   \n",
       "\n",
       "             CPI  Unemployment  Year Quarter  Month Week  Day  \n",
       "39    211.956394         7.838  2010       4     11   44    5  \n",
       "40    212.003944         7.838  2010       4     11   45   12  \n",
       "41    211.889674         7.838  2010       4     11   46   19  \n",
       "42    211.748433         7.838  2010       4     11   47   26  \n",
       "91    217.837382         7.866  2011       4     11   44    4  \n",
       "...          ...           ...   ...     ...    ...  ...  ...  \n",
       "6334  182.783277         8.724  2010       4     11   47   26  \n",
       "6383  187.970363         8.523  2011       4     11   44    4  \n",
       "6384  188.063234         8.523  2011       4     11   45   11  \n",
       "6385  188.198365         8.523  2011       4     11   46   18  \n",
       "6386  188.350400         8.523  2011       4     11   47   25  \n",
       "\n",
       "[360 rows x 13 columns]"
      ]
     },
     "execution_count": 153,
     "metadata": {},
     "output_type": "execute_result"
    }
   ],
   "source": [
    "november_sales = walmart_sales[walmart_sales['Month'] == 11]\n",
    "november_sales"
   ]
  },
  {
   "cell_type": "code",
   "execution_count": 154,
   "id": "465a0e02",
   "metadata": {},
   "outputs": [
    {
     "data": {
      "text/plain": [
       "<AxesSubplot:xlabel='Day', ylabel='Weekly_Sales'>"
      ]
     },
     "execution_count": 154,
     "metadata": {},
     "output_type": "execute_result"
    },
    {
     "data": {
      "image/png": "[encoded data removed]",
      "text/plain": [
       "<Figure size 640x480 with 1 Axes>"
      ]
     },
     "metadata": {},
     "output_type": "display_data"
    }
   ],
   "source": [
    "sns.boxplot(x='Day',y='Weekly_Sales',data=november_sales)"
   ]
  },
  {
   "cell_type": "code",
   "execution_count": 155,
   "id": "88930abb",
   "metadata": {},
   "outputs": [
    {
     "data": {
      "text/html": [
       "<div>\n",
       "<style scoped>\n",
       "    .dataframe tbody tr th:only-of-type {\n",
       "        vertical-align: middle;\n",
       "    }\n",
       "\n",
       "    .dataframe tbody tr th {\n",
       "        vertical-align: top;\n",
       "    }\n",
       "\n",
       "    .dataframe thead th {\n",
       "        text-align: right;\n",
       "    }\n",
       "</style>\n",
       "<table border=\"1\" class=\"dataframe\">\n",
       "  <thead>\n",
       "    <tr style=\"text-align: right;\">\n",
       "      <th></th>\n",
       "      <th>Store</th>\n",
       "      <th>Date</th>\n",
       "      <th>Weekly_Sales</th>\n",
       "      <th>Holiday_Flag</th>\n",
       "      <th>Temperature</th>\n",
       "      <th>Fuel_Price</th>\n",
       "      <th>CPI</th>\n",
       "      <th>Unemployment</th>\n",
       "      <th>Year</th>\n",
       "      <th>Quarter</th>\n",
       "      <th>Month</th>\n",
       "      <th>Week</th>\n",
       "      <th>Day</th>\n",
       "    </tr>\n",
       "  </thead>\n",
       "  <tbody>\n",
       "    <tr>\n",
       "      <th>43</th>\n",
       "      <td>1</td>\n",
       "      <td>2010-12-03</td>\n",
       "      <td>1548033.78</td>\n",
       "      <td>0</td>\n",
       "      <td>49.27</td>\n",
       "      <td>2.708</td>\n",
       "      <td>211.607193</td>\n",
       "      <td>7.838</td>\n",
       "      <td>2010</td>\n",
       "      <td>4</td>\n",
       "      <td>12</td>\n",
       "      <td>48</td>\n",
       "      <td>3</td>\n",
       "    </tr>\n",
       "    <tr>\n",
       "      <th>44</th>\n",
       "      <td>1</td>\n",
       "      <td>2010-12-10</td>\n",
       "      <td>1682614.26</td>\n",
       "      <td>0</td>\n",
       "      <td>46.33</td>\n",
       "      <td>2.843</td>\n",
       "      <td>211.465953</td>\n",
       "      <td>7.838</td>\n",
       "      <td>2010</td>\n",
       "      <td>4</td>\n",
       "      <td>12</td>\n",
       "      <td>49</td>\n",
       "      <td>10</td>\n",
       "    </tr>\n",
       "    <tr>\n",
       "      <th>45</th>\n",
       "      <td>1</td>\n",
       "      <td>2010-12-17</td>\n",
       "      <td>1891034.93</td>\n",
       "      <td>0</td>\n",
       "      <td>49.84</td>\n",
       "      <td>2.869</td>\n",
       "      <td>211.405312</td>\n",
       "      <td>7.838</td>\n",
       "      <td>2010</td>\n",
       "      <td>4</td>\n",
       "      <td>12</td>\n",
       "      <td>50</td>\n",
       "      <td>17</td>\n",
       "    </tr>\n",
       "    <tr>\n",
       "      <th>46</th>\n",
       "      <td>1</td>\n",
       "      <td>2010-12-24</td>\n",
       "      <td>2387950.20</td>\n",
       "      <td>0</td>\n",
       "      <td>52.33</td>\n",
       "      <td>2.886</td>\n",
       "      <td>211.405122</td>\n",
       "      <td>7.838</td>\n",
       "      <td>2010</td>\n",
       "      <td>4</td>\n",
       "      <td>12</td>\n",
       "      <td>51</td>\n",
       "      <td>24</td>\n",
       "    </tr>\n",
       "    <tr>\n",
       "      <th>47</th>\n",
       "      <td>1</td>\n",
       "      <td>2010-12-31</td>\n",
       "      <td>1367320.01</td>\n",
       "      <td>1</td>\n",
       "      <td>48.43</td>\n",
       "      <td>2.943</td>\n",
       "      <td>211.404932</td>\n",
       "      <td>7.838</td>\n",
       "      <td>2010</td>\n",
       "      <td>4</td>\n",
       "      <td>12</td>\n",
       "      <td>52</td>\n",
       "      <td>31</td>\n",
       "    </tr>\n",
       "    <tr>\n",
       "      <th>...</th>\n",
       "      <td>...</td>\n",
       "      <td>...</td>\n",
       "      <td>...</td>\n",
       "      <td>...</td>\n",
       "      <td>...</td>\n",
       "      <td>...</td>\n",
       "      <td>...</td>\n",
       "      <td>...</td>\n",
       "      <td>...</td>\n",
       "      <td>...</td>\n",
       "      <td>...</td>\n",
       "      <td>...</td>\n",
       "      <td>...</td>\n",
       "    </tr>\n",
       "    <tr>\n",
       "      <th>6387</th>\n",
       "      <td>45</td>\n",
       "      <td>2011-12-02</td>\n",
       "      <td>875699.81</td>\n",
       "      <td>0</td>\n",
       "      <td>50.19</td>\n",
       "      <td>3.452</td>\n",
       "      <td>188.502435</td>\n",
       "      <td>8.523</td>\n",
       "      <td>2011</td>\n",
       "      <td>4</td>\n",
       "      <td>12</td>\n",
       "      <td>48</td>\n",
       "      <td>2</td>\n",
       "    </tr>\n",
       "    <tr>\n",
       "      <th>6388</th>\n",
       "      <td>45</td>\n",
       "      <td>2011-12-09</td>\n",
       "      <td>957155.31</td>\n",
       "      <td>0</td>\n",
       "      <td>46.57</td>\n",
       "      <td>3.415</td>\n",
       "      <td>188.654469</td>\n",
       "      <td>8.523</td>\n",
       "      <td>2011</td>\n",
       "      <td>4</td>\n",
       "      <td>12</td>\n",
       "      <td>49</td>\n",
       "      <td>9</td>\n",
       "    </tr>\n",
       "    <tr>\n",
       "      <th>6389</th>\n",
       "      <td>45</td>\n",
       "      <td>2011-12-16</td>\n",
       "      <td>1078905.68</td>\n",
       "      <td>0</td>\n",
       "      <td>39.93</td>\n",
       "      <td>3.413</td>\n",
       "      <td>188.797935</td>\n",
       "      <td>8.523</td>\n",
       "      <td>2011</td>\n",
       "      <td>4</td>\n",
       "      <td>12</td>\n",
       "      <td>50</td>\n",
       "      <td>16</td>\n",
       "    </tr>\n",
       "    <tr>\n",
       "      <th>6390</th>\n",
       "      <td>45</td>\n",
       "      <td>2011-12-23</td>\n",
       "      <td>1521957.99</td>\n",
       "      <td>0</td>\n",
       "      <td>42.27</td>\n",
       "      <td>3.389</td>\n",
       "      <td>188.929975</td>\n",
       "      <td>8.523</td>\n",
       "      <td>2011</td>\n",
       "      <td>4</td>\n",
       "      <td>12</td>\n",
       "      <td>51</td>\n",
       "      <td>23</td>\n",
       "    </tr>\n",
       "    <tr>\n",
       "      <th>6391</th>\n",
       "      <td>45</td>\n",
       "      <td>2011-12-30</td>\n",
       "      <td>869403.63</td>\n",
       "      <td>1</td>\n",
       "      <td>37.79</td>\n",
       "      <td>3.389</td>\n",
       "      <td>189.062016</td>\n",
       "      <td>8.523</td>\n",
       "      <td>2011</td>\n",
       "      <td>4</td>\n",
       "      <td>12</td>\n",
       "      <td>52</td>\n",
       "      <td>30</td>\n",
       "    </tr>\n",
       "  </tbody>\n",
       "</table>\n",
       "<p>450 rows × 13 columns</p>\n",
       "</div>"
      ],
      "text/plain": [
       "     Store       Date  Weekly_Sales Holiday_Flag  Temperature  Fuel_Price  \\\n",
       "43       1 2010-12-03    1548033.78            0        49.27       2.708   \n",
       "44       1 2010-12-10    1682614.26            0        46.33       2.843   \n",
       "45       1 2010-12-17    1891034.93            0        49.84       2.869   \n",
       "46       1 2010-12-24    2387950.20            0        52.33       2.886   \n",
       "47       1 2010-12-31    1367320.01            1        48.43       2.943   \n",
       "...    ...        ...           ...          ...          ...         ...   \n",
       "6387    45 2011-12-02     875699.81            0        50.19       3.452   \n",
       "6388    45 2011-12-09     957155.31            0        46.57       3.415   \n",
       "6389    45 2011-12-16    1078905.68            0        39.93       3.413   \n",
       "6390    45 2011-12-23    1521957.99            0        42.27       3.389   \n",
       "6391    45 2011-12-30     869403.63            1        37.79       3.389   \n",
       "\n",
       "             CPI  Unemployment  Year Quarter  Month Week  Day  \n",
       "43    211.607193         7.838  2010       4     12   48    3  \n",
       "44    211.465953         7.838  2010       4     12   49   10  \n",
       "45    211.405312         7.838  2010       4     12   50   17  \n",
       "46    211.405122         7.838  2010       4     12   51   24  \n",
       "47    211.404932         7.838  2010       4     12   52   31  \n",
       "...          ...           ...   ...     ...    ...  ...  ...  \n",
       "6387  188.502435         8.523  2011       4     12   48    2  \n",
       "6388  188.654469         8.523  2011       4     12   49    9  \n",
       "6389  188.797935         8.523  2011       4     12   50   16  \n",
       "6390  188.929975         8.523  2011       4     12   51   23  \n",
       "6391  189.062016         8.523  2011       4     12   52   30  \n",
       "\n",
       "[450 rows x 13 columns]"
      ]
     },
     "execution_count": 155,
     "metadata": {},
     "output_type": "execute_result"
    }
   ],
   "source": [
    "#dec_sales = walmart_sales.where(walmart_sales['Month']==12)\n",
    "december_sales = walmart_sales[walmart_sales['Month'] == 12]\n",
    "december_sales"
   ]
  },
  {
   "cell_type": "code",
   "execution_count": 156,
   "id": "fd1df523",
   "metadata": {},
   "outputs": [
    {
     "data": {
      "text/plain": [
       "<AxesSubplot:xlabel='Day', ylabel='Weekly_Sales'>"
      ]
     },
     "execution_count": 156,
     "metadata": {},
     "output_type": "execute_result"
    },
    {
     "data": {
      "image/png": "[encoded data removed]",
      "text/plain": [
       "<Figure size 640x480 with 1 Axes>"
      ]
     },
     "metadata": {},
     "output_type": "display_data"
    }
   ],
   "source": [
    "sns.boxplot(x='Day',y='Weekly_Sales',data=december_sales)"
   ]
  },
  {
   "cell_type": "code",
   "execution_count": 157,
   "id": "30272891",
   "metadata": {},
   "outputs": [
    {
     "data": {
      "text/plain": [
       "<AxesSubplot:xlabel='Month', ylabel='Temperature'>"
      ]
     },
     "execution_count": 157,
     "metadata": {},
     "output_type": "execute_result"
    },
    {
     "data": {
      "image/png": "[encoded data removed]",
      "text/plain": [
       "<Figure size 640x480 with 1 Axes>"
      ]
     },
     "metadata": {},
     "output_type": "display_data"
    }
   ],
   "source": [
    "sns.boxplot(x='Month',y='Temperature',data=walmart_sales_copy)"
   ]
  },
  {
   "cell_type": "code",
   "execution_count": 158,
   "id": "c732c418",
   "metadata": {},
   "outputs": [
    {
     "data": {
      "text/plain": [
       "<AxesSubplot:xlabel='Month', ylabel='Unemployment'>"
      ]
     },
     "execution_count": 158,
     "metadata": {},
     "output_type": "execute_result"
    },
    {
     "data": {
      "image/png": "[encoded data removed]",
      "text/plain": [
       "<Figure size 640x480 with 1 Axes>"
      ]
     },
     "metadata": {},
     "output_type": "display_data"
    }
   ],
   "source": [
    "sns.boxplot(x='Month',y='Unemployment',data=walmart_sales_copy)"
   ]
  },
  {
   "cell_type": "code",
   "execution_count": 193,
   "id": "b0931e8e",
   "metadata": {},
   "outputs": [
    {
     "name": "stdout",
     "output_type": "stream",
     "text": [
      "     Store       Date  Weekly_Sales Holiday_Flag  Temperature  Fuel_Price  \\\n",
      "0        1 2010-02-05    1643690.90            0        42.31       2.572   \n",
      "1        1 2010-02-12    1641957.44            1        38.51       2.548   \n",
      "2        1 2010-02-19    1611968.17            0        39.93       2.514   \n",
      "3        1 2010-02-26    1409727.59            0        46.63       2.561   \n",
      "4        1 2010-03-05    1554806.68            0        46.50       2.625   \n",
      "...    ...        ...           ...          ...          ...         ...   \n",
      "6430    45 2012-09-28     713173.95            0        64.88       3.997   \n",
      "6431    45 2012-10-05     733455.07            0        64.89       3.985   \n",
      "6432    45 2012-10-12     734464.36            0        54.47       4.000   \n",
      "6433    45 2012-10-19     718125.53            0        56.47       3.969   \n",
      "6434    45 2012-10-26     760281.43            0        58.85       3.882   \n",
      "\n",
      "             CPI  Unemployment  Year Quarter  Month Week  Day  \n",
      "0     211.096358         8.106  2010       1      2    5    5  \n",
      "1     211.242170         8.106  2010       1      2    6   12  \n",
      "2     211.289143         8.106  2010       1      2    7   19  \n",
      "3     211.319643         8.106  2010       1      2    8   26  \n",
      "4     211.350143         8.106  2010       1      3    9    5  \n",
      "...          ...           ...   ...     ...    ...  ...  ...  \n",
      "6430  192.013558         8.684  2012       3      9   39   28  \n",
      "6431  192.170412         8.667  2012       4     10   40    5  \n",
      "6432  192.327265         8.667  2012       4     10   41   12  \n",
      "6433  192.330854         8.667  2012       4     10   42   19  \n",
      "6434  192.308899         8.667  2012       4     10   43   26  \n",
      "\n",
      "[6401 rows x 13 columns]\n"
     ]
    }
   ],
   "source": [
    "Q1 = walmart_sales['Weekly_Sales'].quantile(0.25)\n",
    "Q3 = walmart_sales['Weekly_Sales'].quantile(0.75)\n",
    "\n",
    "# Calculate IQR\n",
    "IQR = Q3 - Q1\n",
    "\n",
    "# Define the lower and upper bounds\n",
    "lower_bound = Q1 - 1.5 * IQR\n",
    "upper_bound = Q3 + 1.5 * IQR\n",
    "\n",
    "# Remove outliers\n",
    "walmart_sales_no = walmart_sales[(walmart_sales['Weekly_Sales'] >= lower_bound) & (walmart_sales['Weekly_Sales'] <= upper_bound)]\n",
    "\n",
    "print(walmart_sales_no_outliers)"
   ]
  },
  {
   "cell_type": "code",
   "execution_count": 194,
   "id": "edbeef12",
   "metadata": {},
   "outputs": [],
   "source": [
    "# Dropping the outliners\n",
    "walmart_sales_copy.drop(walmart_sales_copy[walmart_sales_copy['Temperature'] < 7].index, axis = 0, inplace = True)\n",
    "walmart_sales_copy.drop(walmart_sales_copy[walmart_sales_copy['Unemployment'] < 4].index, axis = 0, inplace = True)\n",
    "walmart_sales_copy.drop(walmart_sales_copy[walmart_sales_copy['Unemployment'] > 10.9].index, axis = 0, inplace = True)\n"
   ]
  },
  {
   "cell_type": "code",
   "execution_count": 195,
   "id": "94f4e96f",
   "metadata": {},
   "outputs": [
    {
     "data": {
      "text/plain": [
       "(6011, 13)"
      ]
     },
     "execution_count": 195,
     "metadata": {},
     "output_type": "execute_result"
    }
   ],
   "source": [
    "walmart_sales_copy.shape"
   ]
  },
  {
   "cell_type": "code",
   "execution_count": null,
   "id": "1e606507",
   "metadata": {},
   "outputs": [],
   "source": []
  },
  {
   "cell_type": "code",
   "execution_count": null,
   "id": "b554829c",
   "metadata": {},
   "outputs": [],
   "source": []
  },
  {
   "cell_type": "code",
   "execution_count": 162,
   "id": "f958fc78",
   "metadata": {},
   "outputs": [],
   "source": [
    "x=walmart_sales_copy[['Store','Holiday_Flag', 'Temperature',\n",
    "       'Fuel_Price', 'CPI', 'Unemployment','Year','Quarter','Month','Week']]"
   ]
  },
  {
   "cell_type": "code",
   "execution_count": 163,
   "id": "f954dcce",
   "metadata": {},
   "outputs": [
    {
     "data": {
      "text/html": [
       "<div>\n",
       "<style scoped>\n",
       "    .dataframe tbody tr th:only-of-type {\n",
       "        vertical-align: middle;\n",
       "    }\n",
       "\n",
       "    .dataframe tbody tr th {\n",
       "        vertical-align: top;\n",
       "    }\n",
       "\n",
       "    .dataframe thead th {\n",
       "        text-align: right;\n",
       "    }\n",
       "</style>\n",
       "<table border=\"1\" class=\"dataframe\">\n",
       "  <thead>\n",
       "    <tr style=\"text-align: right;\">\n",
       "      <th></th>\n",
       "      <th>Store</th>\n",
       "      <th>Holiday_Flag</th>\n",
       "      <th>Temperature</th>\n",
       "      <th>Fuel_Price</th>\n",
       "      <th>CPI</th>\n",
       "      <th>Unemployment</th>\n",
       "      <th>Year</th>\n",
       "      <th>Quarter</th>\n",
       "      <th>Month</th>\n",
       "      <th>Week</th>\n",
       "    </tr>\n",
       "  </thead>\n",
       "  <tbody>\n",
       "    <tr>\n",
       "      <th>0</th>\n",
       "      <td>1</td>\n",
       "      <td>0</td>\n",
       "      <td>42.31</td>\n",
       "      <td>2.572</td>\n",
       "      <td>211.096358</td>\n",
       "      <td>8.106</td>\n",
       "      <td>2010</td>\n",
       "      <td>1</td>\n",
       "      <td>2</td>\n",
       "      <td>5</td>\n",
       "    </tr>\n",
       "    <tr>\n",
       "      <th>1</th>\n",
       "      <td>1</td>\n",
       "      <td>1</td>\n",
       "      <td>38.51</td>\n",
       "      <td>2.548</td>\n",
       "      <td>211.242170</td>\n",
       "      <td>8.106</td>\n",
       "      <td>2010</td>\n",
       "      <td>1</td>\n",
       "      <td>2</td>\n",
       "      <td>6</td>\n",
       "    </tr>\n",
       "    <tr>\n",
       "      <th>2</th>\n",
       "      <td>1</td>\n",
       "      <td>0</td>\n",
       "      <td>39.93</td>\n",
       "      <td>2.514</td>\n",
       "      <td>211.289143</td>\n",
       "      <td>8.106</td>\n",
       "      <td>2010</td>\n",
       "      <td>1</td>\n",
       "      <td>2</td>\n",
       "      <td>7</td>\n",
       "    </tr>\n",
       "    <tr>\n",
       "      <th>3</th>\n",
       "      <td>1</td>\n",
       "      <td>0</td>\n",
       "      <td>46.63</td>\n",
       "      <td>2.561</td>\n",
       "      <td>211.319643</td>\n",
       "      <td>8.106</td>\n",
       "      <td>2010</td>\n",
       "      <td>1</td>\n",
       "      <td>2</td>\n",
       "      <td>8</td>\n",
       "    </tr>\n",
       "    <tr>\n",
       "      <th>4</th>\n",
       "      <td>1</td>\n",
       "      <td>0</td>\n",
       "      <td>46.50</td>\n",
       "      <td>2.625</td>\n",
       "      <td>211.350143</td>\n",
       "      <td>8.106</td>\n",
       "      <td>2010</td>\n",
       "      <td>1</td>\n",
       "      <td>3</td>\n",
       "      <td>9</td>\n",
       "    </tr>\n",
       "  </tbody>\n",
       "</table>\n",
       "</div>"
      ],
      "text/plain": [
       "  Store Holiday_Flag  Temperature  Fuel_Price         CPI  Unemployment  Year  \\\n",
       "0     1            0        42.31       2.572  211.096358         8.106  2010   \n",
       "1     1            1        38.51       2.548  211.242170         8.106  2010   \n",
       "2     1            0        39.93       2.514  211.289143         8.106  2010   \n",
       "3     1            0        46.63       2.561  211.319643         8.106  2010   \n",
       "4     1            0        46.50       2.625  211.350143         8.106  2010   \n",
       "\n",
       "  Quarter  Month Week  \n",
       "0       1      2    5  \n",
       "1       1      2    6  \n",
       "2       1      2    7  \n",
       "3       1      2    8  \n",
       "4       1      3    9  "
      ]
     },
     "execution_count": 163,
     "metadata": {},
     "output_type": "execute_result"
    }
   ],
   "source": [
    "x.head()"
   ]
  },
  {
   "cell_type": "code",
   "execution_count": 164,
   "id": "8807dffa",
   "metadata": {},
   "outputs": [],
   "source": [
    "y=walmart_sales_copy['Weekly_Sales']"
   ]
  },
  {
   "cell_type": "code",
   "execution_count": 165,
   "id": "c42536ec",
   "metadata": {},
   "outputs": [],
   "source": [
    "# Split the data into training and testing sets\n",
    "from sklearn.model_selection import train_test_split\n",
    "x_train, x_test, y_train, y_test = train_test_split(x, y, test_size=0.18, random_state=42)"
   ]
  },
  {
   "cell_type": "code",
   "execution_count": 166,
   "id": "8e9916ad",
   "metadata": {},
   "outputs": [],
   "source": [
    "# Define a preprocessor using ColumnTransformer and Pipeline\n",
    "from sklearn.preprocessing import StandardScaler, OneHotEncoder\n",
    "from sklearn.compose import ColumnTransformer"
   ]
  },
  {
   "cell_type": "code",
   "execution_count": 167,
   "id": "ec2ceb4f",
   "metadata": {},
   "outputs": [],
   "source": [
    "preprocessor = ColumnTransformer([\n",
    "    ('num_features', StandardScaler(), x.select_dtypes('number').columns.tolist()),\n",
    "    ('cat_features', OneHotEncoder(), x.select_dtypes('object').columns.tolist())\n",
    "])"
   ]
  },
  {
   "cell_type": "markdown",
   "id": "7e3a9122",
   "metadata": {},
   "source": [
    "# Random Forest Regression"
   ]
  },
  {
   "cell_type": "code",
   "execution_count": 168,
   "id": "c17597eb",
   "metadata": {},
   "outputs": [],
   "source": [
    "\n",
    "from sklearn.ensemble import RandomForestRegressor"
   ]
  },
  {
   "cell_type": "code",
   "execution_count": 169,
   "id": "e75b0b7d",
   "metadata": {},
   "outputs": [],
   "source": [
    "# Initialize the Random Forest Regressor\n",
    "rf_model = RandomForestRegressor()"
   ]
  },
  {
   "cell_type": "code",
   "execution_count": 170,
   "id": "8150b9ca",
   "metadata": {},
   "outputs": [],
   "source": [
    "# Create a pipeline to chain preprocessor and model\n",
    "from sklearn.pipeline import Pipeline"
   ]
  },
  {
   "cell_type": "code",
   "execution_count": 171,
   "id": "3e897b49",
   "metadata": {},
   "outputs": [],
   "source": [
    "pipeline = Pipeline([\n",
    "    ('preprocessor', preprocessor),\n",
    "    ('model', rf_model)\n",
    "])"
   ]
  },
  {
   "cell_type": "code",
   "execution_count": 172,
   "id": "ebc9875a",
   "metadata": {},
   "outputs": [
    {
     "data": {
      "text/plain": [
       "Pipeline(steps=[('preprocessor',\n",
       "                 ColumnTransformer(transformers=[('num_features',\n",
       "                                                  StandardScaler(),\n",
       "                                                  ['Temperature', 'Fuel_Price',\n",
       "                                                   'CPI', 'Unemployment',\n",
       "                                                   'Month']),\n",
       "                                                 ('cat_features',\n",
       "                                                  OneHotEncoder(),\n",
       "                                                  ['Store', 'Holiday_Flag',\n",
       "                                                   'Year', 'Quarter',\n",
       "                                                   'Week'])])),\n",
       "                ('model', RandomForestRegressor())])"
      ]
     },
     "execution_count": 172,
     "metadata": {},
     "output_type": "execute_result"
    }
   ],
   "source": [
    "# Train the model using the pipeline\n",
    "pipeline.fit(x_train, y_train)"
   ]
  },
  {
   "cell_type": "code",
   "execution_count": 173,
   "id": "c3b2ff5f",
   "metadata": {},
   "outputs": [],
   "source": [
    "# Making predictions on the test set\n",
    "predictions = pipeline.predict(x_test)"
   ]
  },
  {
   "cell_type": "code",
   "execution_count": 174,
   "id": "365e2211",
   "metadata": {},
   "outputs": [],
   "source": [
    "# Evaluating the model\n",
    "from sklearn.metrics import mean_squared_error, r2_score"
   ]
  },
  {
   "cell_type": "code",
   "execution_count": 175,
   "id": "fd5f019b",
   "metadata": {},
   "outputs": [
    {
     "name": "stdout",
     "output_type": "stream",
     "text": [
      "Root Mean Squared Error: 92690.95845313506\n",
      "R-squared/Accuracy: 0.9745940151118069\n"
     ]
    }
   ],
   "source": [
    "mse = mean_squared_error(y_test, predictions)\n",
    "rmse = np.sqrt(mse)\n",
    "r2 = r2_score(y_test, predictions)\n",
    "print(f'Root Mean Squared Error: {rmse}')\n",
    "print(f'R-squared/Accuracy: {r2}')"
   ]
  },
  {
   "cell_type": "code",
   "execution_count": 176,
   "id": "06f80a46",
   "metadata": {},
   "outputs": [
    {
     "data": {
      "image/png": "[encoded data removed]",
      "text/plain": [
       "<Figure size 640x480 with 1 Axes>"
      ]
     },
     "metadata": {},
     "output_type": "display_data"
    }
   ],
   "source": [
    "# Actual Sales vs Predicted sales\n",
    "plt.scatter(x=y_test,y=predictions)\n",
    "plt.xlabel('Test Data')\n",
    "plt.ylabel('Predicted Data')\n",
    "plt.show()"
   ]
  },
  {
   "cell_type": "code",
   "execution_count": 177,
   "id": "e792851c",
   "metadata": {},
   "outputs": [
    {
     "data": {
      "text/html": [
       "<div>\n",
       "<style scoped>\n",
       "    .dataframe tbody tr th:only-of-type {\n",
       "        vertical-align: middle;\n",
       "    }\n",
       "\n",
       "    .dataframe tbody tr th {\n",
       "        vertical-align: top;\n",
       "    }\n",
       "\n",
       "    .dataframe thead th {\n",
       "        text-align: right;\n",
       "    }\n",
       "</style>\n",
       "<table border=\"1\" class=\"dataframe\">\n",
       "  <thead>\n",
       "    <tr style=\"text-align: right;\">\n",
       "      <th></th>\n",
       "      <th>Store</th>\n",
       "      <th>Date</th>\n",
       "      <th>Weekly_Sales</th>\n",
       "      <th>Holiday_Flag</th>\n",
       "      <th>Temperature</th>\n",
       "      <th>Fuel_Price</th>\n",
       "      <th>CPI</th>\n",
       "      <th>Unemployment</th>\n",
       "      <th>Year</th>\n",
       "      <th>Quarter</th>\n",
       "      <th>Month</th>\n",
       "      <th>Week</th>\n",
       "      <th>Day</th>\n",
       "    </tr>\n",
       "  </thead>\n",
       "  <tbody>\n",
       "    <tr>\n",
       "      <th>679</th>\n",
       "      <td>5</td>\n",
       "      <td>2012-02-24</td>\n",
       "      <td>312220.47</td>\n",
       "      <td>0</td>\n",
       "      <td>57.75</td>\n",
       "      <td>3.555</td>\n",
       "      <td>221.222424</td>\n",
       "      <td>5.943</td>\n",
       "      <td>2012</td>\n",
       "      <td>1</td>\n",
       "      <td>2</td>\n",
       "      <td>8</td>\n",
       "      <td>24</td>\n",
       "    </tr>\n",
       "  </tbody>\n",
       "</table>\n",
       "</div>"
      ],
      "text/plain": [
       "    Store       Date  Weekly_Sales Holiday_Flag  Temperature  Fuel_Price  \\\n",
       "679     5 2012-02-24     312220.47            0        57.75       3.555   \n",
       "\n",
       "            CPI  Unemployment  Year Quarter  Month Week  Day  \n",
       "679  221.222424         5.943  2012       1      2    8   24  "
      ]
     },
     "execution_count": 177,
     "metadata": {},
     "output_type": "execute_result"
    }
   ],
   "source": [
    "walmart_sales.sample()"
   ]
  },
  {
   "cell_type": "code",
   "execution_count": 178,
   "id": "61de4563",
   "metadata": {},
   "outputs": [],
   "source": [
    "\n",
    "from sklearn.impute import SimpleImputer\n",
    "\n",
    "# Example future date data as a single list\n",
    "future_data_list = [28, 0, 50.74, 3.342, 127.580032, 14.021, 2011, 1, 1, 4]\n",
    "\n",
    "# Defining the order of features which should match the order used during training)\n",
    "feature_order = ['Store', 'Holiday_Flag', 'Temperature', 'Fuel_Price', 'CPI', 'Unemployment', 'Year', 'Quarter','Month','Week']\n",
    "\n",
    "# Create a dictionary with feature names as keys and values from the list\n",
    "future_data_dict = dict(zip(feature_order, future_data_list))\n",
    "\n",
    "# Convert the dictionary to a DataFrame\n",
    "future_data = pd.DataFrame([future_data_dict])"
   ]
  },
  {
   "cell_type": "code",
   "execution_count": 179,
   "id": "cb3f5b89",
   "metadata": {},
   "outputs": [],
   "source": [
    "\n",
    "# Ensure correct data types\n",
    "\n",
    "future_data['Store'] = future_data['Store'].astype('object')\n",
    "future_data['Holiday_Flag'] = future_data['Holiday_Flag'].astype('object')\n",
    "future_data['Year'] = future_data['Year'].astype('object')\n",
    "future_data['Quarter'] = future_data['Quarter'].astype('object')\n",
    "future_data['Week'] = future_data['Week'].astype('object')\n"
   ]
  },
  {
   "cell_type": "code",
   "execution_count": 180,
   "id": "707efc48",
   "metadata": {},
   "outputs": [],
   "source": [
    "# Handle NaN values using SimpleImputer\n",
    "numeric_features = future_data.select_dtypes(include=['float64']).columns\n",
    "categorical_features = future_data.select_dtypes(include=['object']).columns\n",
    "\n",
    "numeric_transformer = Pipeline(steps=[\n",
    "    ('imputer', SimpleImputer(strategy='mean')) \n",
    "])\n",
    "\n",
    "categorical_transformer = Pipeline(steps=[\n",
    "    ('imputer', SimpleImputer(strategy='constant', fill_value='missing'))\n",
    "])\n",
    "\n"
   ]
  },
  {
   "cell_type": "code",
   "execution_count": 181,
   "id": "cb300730",
   "metadata": {},
   "outputs": [],
   "source": [
    "# Preprocess the future date data\n",
    "future_data_preprocessed = preprocessor.transform(future_data)\n"
   ]
  },
  {
   "cell_type": "code",
   "execution_count": 182,
   "id": "46c0e568",
   "metadata": {},
   "outputs": [
    {
     "name": "stdout",
     "output_type": "stream",
     "text": [
      "Predicted Weekly Sales for the Future Date using Random Forest Regressor: 981463.5011000001\n"
     ]
    }
   ],
   "source": [
    "\n",
    "# Make predictions using the trained model\n",
    "future_predictions = pipeline.named_steps['model'].predict(future_data_preprocessed)\n",
    "\n",
    "# Print the predicted weekly sales for the future date\n",
    "print(f'Predicted Weekly Sales for the Future Date using Random Forest Regressor: {future_predictions[0]}')"
   ]
  },
  {
   "cell_type": "markdown",
   "id": "d3a68297",
   "metadata": {},
   "source": [
    "# Linear Regression"
   ]
  },
  {
   "cell_type": "code",
   "execution_count": 183,
   "id": "ca5098b3",
   "metadata": {},
   "outputs": [],
   "source": [
    "from sklearn.linear_model import LinearRegression \n",
    "lm = LinearRegression() #instantiate \n"
   ]
  },
  {
   "cell_type": "code",
   "execution_count": 184,
   "id": "ab3a63cd",
   "metadata": {},
   "outputs": [
    {
     "data": {
      "text/plain": [
       "LinearRegression()"
      ]
     },
     "execution_count": 184,
     "metadata": {},
     "output_type": "execute_result"
    }
   ],
   "source": [
    "lm.fit(x_train,y_train)"
   ]
  },
  {
   "cell_type": "code",
   "execution_count": 185,
   "id": "17ea4b5f",
   "metadata": {},
   "outputs": [],
   "source": [
    "pipeline_linear = Pipeline([\n",
    "    ('preprocessor', preprocessor),\n",
    "    ('model', lm)\n",
    "])"
   ]
  },
  {
   "cell_type": "code",
   "execution_count": 186,
   "id": "bdedafa4",
   "metadata": {},
   "outputs": [
    {
     "data": {
      "text/plain": [
       "Pipeline(steps=[('preprocessor',\n",
       "                 ColumnTransformer(transformers=[('num_features',\n",
       "                                                  StandardScaler(),\n",
       "                                                  ['Temperature', 'Fuel_Price',\n",
       "                                                   'CPI', 'Unemployment',\n",
       "                                                   'Month']),\n",
       "                                                 ('cat_features',\n",
       "                                                  OneHotEncoder(),\n",
       "                                                  ['Store', 'Holiday_Flag',\n",
       "                                                   'Year', 'Quarter',\n",
       "                                                   'Week'])])),\n",
       "                ('model', LinearRegression())])"
      ]
     },
     "execution_count": 186,
     "metadata": {},
     "output_type": "execute_result"
    }
   ],
   "source": [
    "pipeline_linear.fit(x_train, y_train)"
   ]
  },
  {
   "cell_type": "code",
   "execution_count": 187,
   "id": "6620ad8a",
   "metadata": {},
   "outputs": [],
   "source": [
    "predicts = pipeline_linear.predict(x_test)"
   ]
  },
  {
   "cell_type": "code",
   "execution_count": 188,
   "id": "2d20c032",
   "metadata": {},
   "outputs": [
    {
     "data": {
      "text/plain": [
       "Text(0, 0.5, 'Predicted Data')"
      ]
     },
     "execution_count": 188,
     "metadata": {},
     "output_type": "execute_result"
    },
    {
     "data": {
      "image/png": "[encoded data removed]",
      "text/plain": [
       "<Figure size 640x480 with 1 Axes>"
      ]
     },
     "metadata": {},
     "output_type": "display_data"
    }
   ],
   "source": [
    "plt.scatter(x=y_test,y=predicts)\n",
    "plt.xlabel('Test Data')\n",
    "plt.ylabel('Predicted Data')"
   ]
  },
  {
   "cell_type": "code",
   "execution_count": 189,
   "id": "f04ed80f",
   "metadata": {},
   "outputs": [
    {
     "name": "stdout",
     "output_type": "stream",
     "text": [
      "Root Mean Squared Error: 110857.14862401542\n",
      "R-squared/Accuracy: 0.9636596841815758\n"
     ]
    }
   ],
   "source": [
    "mse = mean_squared_error(y_test, predicts)\n",
    "rmse = np.sqrt(mse)\n",
    "r2 = r2_score(y_test, predicts)\n",
    "print(f'Root Mean Squared Error: {rmse}')\n",
    "print(f'R-squared/Accuracy: {r2}')"
   ]
  },
  {
   "cell_type": "code",
   "execution_count": 190,
   "id": "43006ff1",
   "metadata": {},
   "outputs": [
    {
     "name": "stdout",
     "output_type": "stream",
     "text": [
      "Predicted Weekly Sales for the Future Date using Linear Regression: 995060.5829586859\n"
     ]
    }
   ],
   "source": [
    "\n",
    "# Make predictions using the trained model\n",
    "future_predictions = pipeline_linear.named_steps['model'].predict(future_data_preprocessed)\n",
    "\n",
    "# Print the predicted weekly sales for the future date\n",
    "print(f'Predicted Weekly Sales for the Future Date using Linear Regression: {future_predictions[0]}')"
   ]
  },
  {
   "cell_type": "code",
   "execution_count": 191,
   "id": "a1cd3880",
   "metadata": {},
   "outputs": [
    {
     "data": {
      "text/plain": [
       "<seaborn.axisgrid.FacetGrid at 0x7fb9ad17fb20>"
      ]
     },
     "execution_count": 191,
     "metadata": {},
     "output_type": "execute_result"
    },
    {
     "data": {
      "image/png": "[encoded data removed]",
      "text/plain": [
       "<Figure size 500x500 with 1 Axes>"
      ]
     },
     "metadata": {},
     "output_type": "display_data"
    }
   ],
   "source": [
    "sns.displot((predicts-y_test),bins=50,kde=True)"
   ]
  },
  {
   "cell_type": "code",
   "execution_count": 192,
   "id": "8a0b03df",
   "metadata": {},
   "outputs": [
    {
     "data": {
      "text/plain": [
       "<seaborn.axisgrid.FacetGrid at 0x7fb980478fa0>"
      ]
     },
     "execution_count": 192,
     "metadata": {},
     "output_type": "execute_result"
    },
    {
     "data": {
      "image/png": "[encoded data removed]",
      "text/plain": [
       "<Figure size 500x500 with 1 Axes>"
      ]
     },
     "metadata": {},
     "output_type": "display_data"
    }
   ],
   "source": [
    "sns.displot((predictions-y_test),bins=50,kde=True)"
   ]
  }
 ],
 "metadata": {
  "kernelspec": {
   "display_name": "Python 3 (ipykernel)",
   "language": "python",
   "name": "python3"
  },
  "language_info": {
   "codemirror_mode": {
    "name": "ipython",
    "version": 3
   },
   "file_extension": ".py",
   "mimetype": "text/x-python",
   "name": "python",
   "nbconvert_exporter": "python",
   "pygments_lexer": "ipython3",
   "version": "3.9.13"
  }
 },
 "nbformat": 4,
 "nbformat_minor": 5
}
